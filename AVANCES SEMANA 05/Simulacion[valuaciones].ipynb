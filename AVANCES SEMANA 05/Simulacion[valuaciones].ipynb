{
 "cells": [
  {
   "cell_type": "markdown",
   "metadata": {},
   "source": [
    "# Analisis de datos[Valuaciones]"
   ]
  },
  {
   "cell_type": "code",
   "execution_count": 153,
   "metadata": {},
   "outputs": [
    {
     "data": {
      "text/html": [
       "        <script type=\"text/javascript\">\n",
       "        window.PlotlyConfig = {MathJaxConfig: 'local'};\n",
       "        if (window.MathJax) {MathJax.Hub.Config({SVG: {font: \"STIX-Web\"}});}\n",
       "        if (typeof require !== 'undefined') {\n",
       "        require.undef(\"plotly\");\n",
       "        requirejs.config({\n",
       "            paths: {\n",
       "                'plotly': ['https://cdn.plot.ly/plotly-latest.min']\n",
       "            }\n",
       "        });\n",
       "        require(['plotly'], function(Plotly) {\n",
       "            window._Plotly = Plotly;\n",
       "        });\n",
       "        }\n",
       "        </script>\n",
       "        "
      ]
     },
     "metadata": {},
     "output_type": "display_data"
    }
   ],
   "source": [
    "import pandas as pd\n",
    "import numpy as np\n",
    "from sklearn.neighbors.kde import KernelDensity\n",
    "import matplotlib.pyplot as plt\n",
    "from matplotlib.pyplot import plot\n",
    "import scipy.stats as st\n",
    "import statsmodels.datasets\n",
    "import plotly.plotly as py\n",
    "from plotly import tools\n",
    "from datetime import datetime\n",
    "import plotly.graph_objs as go\n",
    "from plotly.offline import init_notebook_mode, plot, iplot\n",
    "init_notebook_mode(connected=True)\n",
    "from scipy.stats import norm\n",
    "%matplotlib inline\n",
    "import pandas as pd\n",
    "import matplotlib.pyplot as plt\n",
    "import statsmodels.api as sm\n",
    "from statsmodels.tsa.arima_model import ARIMA\n",
    "import numpy as np\n",
    "from scipy import stats as st\n",
    "%matplotlib inline\n",
    "import warnings\n",
    "pd.set_option('precision',2)"
   ]
  },
  {
   "cell_type": "markdown",
   "metadata": {},
   "source": [
    "Importacíon de datos json"
   ]
  },
  {
   "cell_type": "code",
   "execution_count": 168,
   "metadata": {},
   "outputs": [],
   "source": [
    "data=pd.read_json(r'C:\\Users\\luism\\OneDrive\\Escritorio\\data\\VALUACION_20190705_174227_TRAYECTORIA_0.json')"
   ]
  },
  {
   "cell_type": "code",
   "execution_count": 169,
   "metadata": {},
   "outputs": [],
   "source": [
    "diccionario=dict()\n",
    "for icount in range(len(data.columns)):\n",
    "    tempkey='resultado_'+str(icount)\n",
    "    diccionario[icount+1]=data[tempkey]['valuacion']"
   ]
  },
  {
   "cell_type": "code",
   "execution_count": 170,
   "metadata": {},
   "outputs": [
    {
     "data": {
      "text/plain": [
       "0    5.66e+07\n",
       "Name: 1, dtype: float64"
      ]
     },
     "execution_count": 170,
     "metadata": {},
     "output_type": "execute_result"
    }
   ],
   "source": [
    "var=pd.DataFrame.from_dict(diccionario.items())\n",
    "var=var[1]\n",
    "var"
   ]
  },
  {
   "cell_type": "code",
   "execution_count": 171,
   "metadata": {},
   "outputs": [
    {
     "data": {
      "application/vnd.plotly.v1+json": {
       "config": {
        "linkText": "Export to plot.ly",
        "plotlyServerURL": "https://plot.ly",
        "showLink": false
       },
       "data": [
        {
         "name": "Valuación",
         "nbinsx": 30,
         "type": "histogram",
         "uid": "254fdde0-981e-4ae1-b456-97fac53261eb",
         "x": [
          56593666.17
         ]
        }
       ],
       "layout": {
        "title": {
         "text": "HISTOGRAMA DE DATOS"
        },
        "xaxis": {
         "title": {
          "text": "1"
         }
        },
        "yaxis": {
         "title": {
          "text": ""
         }
        }
       }
      },
      "text/html": [
       "<div>\n",
       "        \n",
       "        \n",
       "            <div id=\"db2d1247-25ef-4d5b-8689-25b60c9f3878\" class=\"plotly-graph-div\" style=\"height:525px; width:100%;\"></div>\n",
       "            <script type=\"text/javascript\">\n",
       "                require([\"plotly\"], function(Plotly) {\n",
       "                    window.PLOTLYENV=window.PLOTLYENV || {};\n",
       "                    window.PLOTLYENV.BASE_URL='https://plot.ly';\n",
       "                    \n",
       "                if (document.getElementById(\"db2d1247-25ef-4d5b-8689-25b60c9f3878\")) {\n",
       "                    Plotly.newPlot(\n",
       "                        'db2d1247-25ef-4d5b-8689-25b60c9f3878',\n",
       "                        [{\"name\": \"Valuaci\\u00f3n\", \"nbinsx\": 30, \"type\": \"histogram\", \"uid\": \"254fdde0-981e-4ae1-b456-97fac53261eb\", \"x\": [56593666.17]}],\n",
       "                        {\"title\": {\"text\": \"HISTOGRAMA DE DATOS\"}, \"xaxis\": {\"title\": {\"text\": \"1\"}}, \"yaxis\": {\"title\": {\"text\": \"\"}}},\n",
       "                        {\"showLink\": false, \"linkText\": \"Export to plot.ly\", \"plotlyServerURL\": \"https://plot.ly\", \"responsive\": true}\n",
       "                    ).then(function(){\n",
       "                            \n",
       "var gd = document.getElementById('db2d1247-25ef-4d5b-8689-25b60c9f3878');\n",
       "var x = new MutationObserver(function (mutations, observer) {{\n",
       "        var display = window.getComputedStyle(gd).display;\n",
       "        if (!display || display === 'none') {{\n",
       "            console.log([gd, 'removed!']);\n",
       "            Plotly.purge(gd);\n",
       "            observer.disconnect();\n",
       "        }}\n",
       "}});\n",
       "\n",
       "// Listen for the removal of the full notebook cells\n",
       "var notebookContainer = gd.closest('#notebook-container');\n",
       "if (notebookContainer) {{\n",
       "    x.observe(notebookContainer, {childList: true});\n",
       "}}\n",
       "\n",
       "// Listen for the clearing of the current output cell\n",
       "var outputEl = gd.closest('.output');\n",
       "if (outputEl) {{\n",
       "    x.observe(outputEl, {childList: true});\n",
       "}}\n",
       "\n",
       "                        })\n",
       "                };\n",
       "                });\n",
       "            </script>\n",
       "        </div>"
      ]
     },
     "metadata": {},
     "output_type": "display_data"
    }
   ],
   "source": [
    "# GRÁFICA HISTOGRAMA VALUACIONES\n",
    "data= [go.Histogram(x=var, nbinsx= 30, name='Valuación')]\n",
    "layout = go.Layout(title='HISTOGRAMA DE DATOS', xaxis=dict(title=var.name),yaxis=dict(title=''))\n",
    "fig = go.Figure(data=data,layout=layout)\n",
    "iplot(fig, filename = 'Hist')"
   ]
  },
  {
   "cell_type": "code",
   "execution_count": 172,
   "metadata": {},
   "outputs": [],
   "source": [
    "#función de densidad de probabilidad por método paramétrico\n",
    "def best_fit_distribution(data, bins=200):    \n",
    "    \"\"\"Model data by finding best fit distribution to data\"\"\"\n",
    "    '''O. Jaramillo Zuloaga'''\n",
    "    y, x = np.histogram(data, bins=bins, density=True)\n",
    "    x = (x + np.roll(x, -1))[:-1] / 2.0\n",
    "    \n",
    "    DISTRIBUTIONS = [        \n",
    "        st.alpha,st.anglit,st.arcsine,st.beta,st.betaprime,st.bradford,st.burr,st.cauchy,st.chi,st.chi2,st.cosine,\n",
    "        st.dgamma,st.dweibull,st.erlang,st.expon,st.exponnorm,st.exponweib,st.exponpow,st.f,st.fatiguelife,st.fisk,\n",
    "        st.foldcauchy,st.foldnorm,st.frechet_r,st.frechet_l,st.genlogistic,st.genpareto,st.gennorm,st.genexpon,\n",
    "        st.genextreme,st.gausshyper,st.gamma,st.gengamma,st.genhalflogistic,st.gilbrat,st.gompertz,st.gumbel_r,\n",
    "        st.gumbel_l,st.halfcauchy,st.halflogistic,st.halfnorm,st.halfgennorm,st.hypsecant,st.invgamma,st.invgauss,\n",
    "        st.invweibull,st.johnsonsb,st.johnsonsu,st.ksone,st.kstwobign,st.laplace,st.levy,st.levy_l,\n",
    "        st.logistic,st.loggamma,st.loglaplace,st.lognorm,st.lomax,st.maxwell,st.mielke,st.nakagami,st.ncx2,st.ncf,\n",
    "        st.nct,st.norm,st.pareto,st.pearson3,st.powerlaw,st.powerlognorm,st.powernorm,st.rdist,st.reciprocal,\n",
    "        st.rayleigh,st.rice,st.recipinvgauss,st.semicircular,st.t,st.triang,st.truncexpon,st.truncnorm,st.tukeylambda,\n",
    "        st.uniform,st.vonmises,st.vonmises_line,st.wald,st.weibull_min,st.weibull_max,st.wrapcauchy\n",
    "    ]\n",
    "    iCount =0    \n",
    "    best_distribution = st.norm\n",
    "    best_params = (0.0, 1.0)\n",
    "    best_sse = np.inf    \n",
    "    for distribution in DISTRIBUTIONS:        \n",
    "        try:                \n",
    "            warnings.filterwarnings('ignore')   \n",
    "            params = distribution.fit(data)\n",
    "            arg = params[:-2]\n",
    "            loc = params[-2]\n",
    "            scale = params[-1]\n",
    "            pdf = distribution.pdf(x, loc=loc, scale=scale, *arg)\n",
    "            iCount+=1\n",
    "            sse = np.sum(np.power(y - pdf, 2.0))                                \n",
    "            if best_sse > sse:\n",
    "                best_distribution = distribution\n",
    "                best_params = params\n",
    "                best_sse = sse\n",
    "        except Exception:\n",
    "            pass \n",
    "    return (best_distribution,best_params)\n"
   ]
  },
  {
   "cell_type": "code",
   "execution_count": 173,
   "metadata": {},
   "outputs": [],
   "source": [
    "# DISTRIBUCIÓN VALUACIONES - DATOS PESTAÑA 1(VALUACIÓN).\n",
    "best_dist = best_fit_distribution(var) "
   ]
  },
  {
   "cell_type": "code",
   "execution_count": 174,
   "metadata": {},
   "outputs": [
    {
     "data": {
      "text/plain": [
       "KstestResult(statistic=0.5945989343842298, pvalue=0.8713525637065429)"
      ]
     },
     "execution_count": 174,
     "metadata": {},
     "output_type": "execute_result"
    }
   ],
   "source": [
    "# DISTRIBUCIÓN VALUACIONES\n",
    "dist = best_dist[0]\n",
    "args = dist.fit(var)\n",
    "distxl = best_dist[0].pdf(var, *args)\n",
    "st.kstest(var, dist.cdf, args)"
   ]
  },
  {
   "cell_type": "code",
   "execution_count": 175,
   "metadata": {},
   "outputs": [
    {
     "data": {
      "application/vnd.plotly.v1+json": {
       "config": {
        "linkText": "Export to plot.ly",
        "plotlyServerURL": "https://plot.ly",
        "showLink": false
       },
       "data": [
        {
         "mode": "markers",
         "name": "fisk",
         "type": "scatter",
         "uid": "e6717b88-0116-49df-ae4f-577a6b4cd3c7",
         "x": [
          56593666.17
         ],
         "y": [
          16832822.948354404
         ]
        },
        {
         "name": "Valuación",
         "nbinsx": 30,
         "type": "histogram",
         "uid": "8fe8cc04-01d0-4e40-8bb6-731d8cc44aaa",
         "x": [
          56593666.17
         ]
        }
       ],
       "layout": {
        "title": {
         "text": "Comparación con distribución obtenida"
        },
        "xaxis": {
         "title": {
          "text": "1"
         }
        },
        "yaxis": {
         "title": {
          "text": ""
         }
        }
       }
      },
      "text/html": [
       "<div>\n",
       "        \n",
       "        \n",
       "            <div id=\"78a457e9-f4d2-4721-9b02-e56d015b0e3c\" class=\"plotly-graph-div\" style=\"height:525px; width:100%;\"></div>\n",
       "            <script type=\"text/javascript\">\n",
       "                require([\"plotly\"], function(Plotly) {\n",
       "                    window.PLOTLYENV=window.PLOTLYENV || {};\n",
       "                    window.PLOTLYENV.BASE_URL='https://plot.ly';\n",
       "                    \n",
       "                if (document.getElementById(\"78a457e9-f4d2-4721-9b02-e56d015b0e3c\")) {\n",
       "                    Plotly.newPlot(\n",
       "                        '78a457e9-f4d2-4721-9b02-e56d015b0e3c',\n",
       "                        [{\"mode\": \"markers\", \"name\": \"fisk\", \"type\": \"scatter\", \"uid\": \"e6717b88-0116-49df-ae4f-577a6b4cd3c7\", \"x\": [56593666.17], \"y\": [16832822.948354404]}, {\"name\": \"Valuaci\\u00f3n\", \"nbinsx\": 30, \"type\": \"histogram\", \"uid\": \"8fe8cc04-01d0-4e40-8bb6-731d8cc44aaa\", \"x\": [56593666.17]}],\n",
       "                        {\"title\": {\"text\": \"Comparaci\\u00f3n con distribuci\\u00f3n obtenida\"}, \"xaxis\": {\"title\": {\"text\": \"1\"}}, \"yaxis\": {\"title\": {\"text\": \"\"}}},\n",
       "                        {\"showLink\": false, \"linkText\": \"Export to plot.ly\", \"plotlyServerURL\": \"https://plot.ly\", \"responsive\": true}\n",
       "                    ).then(function(){\n",
       "                            \n",
       "var gd = document.getElementById('78a457e9-f4d2-4721-9b02-e56d015b0e3c');\n",
       "var x = new MutationObserver(function (mutations, observer) {{\n",
       "        var display = window.getComputedStyle(gd).display;\n",
       "        if (!display || display === 'none') {{\n",
       "            console.log([gd, 'removed!']);\n",
       "            Plotly.purge(gd);\n",
       "            observer.disconnect();\n",
       "        }}\n",
       "}});\n",
       "\n",
       "// Listen for the removal of the full notebook cells\n",
       "var notebookContainer = gd.closest('#notebook-container');\n",
       "if (notebookContainer) {{\n",
       "    x.observe(notebookContainer, {childList: true});\n",
       "}}\n",
       "\n",
       "// Listen for the clearing of the current output cell\n",
       "var outputEl = gd.closest('.output');\n",
       "if (outputEl) {{\n",
       "    x.observe(outputEl, {childList: true});\n",
       "}}\n",
       "\n",
       "                        })\n",
       "                };\n",
       "                });\n",
       "            </script>\n",
       "        </div>"
      ]
     },
     "metadata": {},
     "output_type": "display_data"
    }
   ],
   "source": [
    "# GRÁFICA HISTOGRAMA CON DISTRIBUCION DE PROBABILIDAD JUNTAS\n",
    "data1 = go.Scatter(x=var,y= (distxl * len(var) * var.max() / 30), mode= 'markers', name= best_dist[0].name)\n",
    "data2 = go.Histogram(x=var, nbinsx= 30, name='Valuación')\n",
    "data= [data1, data2]\n",
    "layout = go.Layout(title='Comparación con distribución obtenida', xaxis=dict(title=var.name),yaxis=dict(title=''))\n",
    "fig = go.Figure(data=data,layout=layout)\n",
    "iplot(fig, filename = 'Hist')"
   ]
  },
  {
   "cell_type": "code",
   "execution_count": null,
   "metadata": {},
   "outputs": [],
   "source": []
  },
  {
   "cell_type": "code",
   "execution_count": null,
   "metadata": {},
   "outputs": [],
   "source": []
  }
 ],
 "metadata": {
  "kernelspec": {
   "display_name": "Python 3",
   "language": "python",
   "name": "python3"
  },
  "language_info": {
   "codemirror_mode": {
    "name": "ipython",
    "version": 3
   },
   "file_extension": ".py",
   "mimetype": "text/x-python",
   "name": "python",
   "nbconvert_exporter": "python",
   "pygments_lexer": "ipython3",
   "version": "3.7.3"
  }
 },
 "nbformat": 4,
 "nbformat_minor": 2
}
