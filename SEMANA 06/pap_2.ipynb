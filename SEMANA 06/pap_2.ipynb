{
 "cells": [
  {
   "cell_type": "markdown",
   "metadata": {},
   "source": [
    "# Analisis de datos[Valuaciones]"
   ]
  },
  {
   "cell_type": "code",
   "execution_count": 5,
   "metadata": {},
   "outputs": [
    {
     "data": {
      "text/html": [
       "        <script type=\"text/javascript\">\n",
       "        window.PlotlyConfig = {MathJaxConfig: 'local'};\n",
       "        if (window.MathJax) {MathJax.Hub.Config({SVG: {font: \"STIX-Web\"}});}\n",
       "        if (typeof require !== 'undefined') {\n",
       "        require.undef(\"plotly\");\n",
       "        requirejs.config({\n",
       "            paths: {\n",
       "                'plotly': ['https://cdn.plot.ly/plotly-latest.min']\n",
       "            }\n",
       "        });\n",
       "        require(['plotly'], function(Plotly) {\n",
       "            window._Plotly = Plotly;\n",
       "        });\n",
       "        }\n",
       "        </script>\n",
       "        "
      ]
     },
     "metadata": {},
     "output_type": "display_data"
    }
   ],
   "source": [
    "import os, json\n",
    "import numpy as np\n",
    "from sklearn.neighbors.kde import KernelDensity\n",
    "import scipy.stats as st\n",
    "import statsmodels.datasets\n",
    "import plotly.plotly as py\n",
    "from plotly import tools\n",
    "import plotly.graph_objs as go\n",
    "from plotly.offline import init_notebook_mode, plot, iplot\n",
    "init_notebook_mode(connected=True)\n",
    "from scipy.stats import norm\n",
    "import pandas as pd\n",
    "import warnings\n",
    "pd.set_option('precision',2)"
   ]
  },
  {
   "cell_type": "code",
   "execution_count": 6,
   "metadata": {
    "scrolled": true
   },
   "outputs": [],
   "source": [
    "def reader_json_val(path_json):\n",
    "    path_to_json=(r'C:\\Users\\luism\\OneDrive\\Escritorio\\data')\n",
    "    json_files = [pos_json for pos_json in os.listdir(path_to_json) if pos_json.endswith('.json')]\n",
    "    num = (len(json_files))\n",
    "    diccionario = []\n",
    "    for i in range(num-1):\n",
    "        json_filesx=pd.read_json(r'C:\\Users\\luism\\OneDrive\\Escritorio\\data'+'/'+json_files[i+0])\n",
    "        diccionario.append(json_filesx)\n",
    "    diccionario=pd.concat(diccionario,axis=1)\n",
    "    dicci=dict()\n",
    "    for icount in range(len(diccionario.columns)):\n",
    "            tempkey='resultado_'+str(icount)\n",
    "            dicci[icount+1]=diccionario[tempkey]['valuacion']\n",
    "            var=pd.DataFrame.from_dict(dicci.items())\n",
    "            var=var[1]\n",
    "    return(var)\n",
    "var=reader_json_val(r'C:\\Users\\luism\\OneDrive\\Escritorio\\data')"
   ]
  },
  {
   "cell_type": "code",
   "execution_count": 12,
   "metadata": {},
   "outputs": [],
   "source": [
    "def best_fit_distribution(data, bins=200):    \n",
    "    \"\"\"Model data by finding best fit distribution to data\"\"\"\n",
    "    '''O. Jaramillo Zuloaga'''\n",
    "    y, x = np.histogram(data, bins=bins, density=True)\n",
    "    x = (x + np.roll(x, -1))[:-1] / 2.0\n",
    "    \n",
    "    DISTRIBUTIONS = [        \n",
    "        st.alpha,st.anglit,st.arcsine,st.beta,st.betaprime,st.bradford,st.burr,st.cauchy,st.chi,st.chi2,st.cosine,\n",
    "        st.dgamma,st.dweibull,st.erlang,st.expon,st.exponnorm,st.exponweib,st.exponpow,st.f,st.fatiguelife,st.fisk,\n",
    "        st.foldcauchy,st.foldnorm,st.frechet_r,st.frechet_l,st.genlogistic,st.genpareto,st.gennorm,st.genexpon,\n",
    "        st.genextreme,st.gausshyper,st.gamma,st.gengamma,st.genhalflogistic,st.gilbrat,st.gompertz,st.gumbel_r,\n",
    "        st.gumbel_l,st.halfcauchy,st.halflogistic,st.halfnorm,st.halfgennorm,st.hypsecant,st.invgamma,st.invgauss,\n",
    "        st.invweibull,st.johnsonsb,st.johnsonsu,st.ksone,st.kstwobign,st.laplace,st.levy,st.levy_l,\n",
    "        st.logistic,st.loggamma,st.loglaplace,st.lognorm,st.lomax,st.maxwell,st.mielke,st.nakagami,st.ncx2,st.ncf,\n",
    "        st.nct,st.norm,st.pareto,st.pearson3,st.powerlaw,st.powerlognorm,st.powernorm,st.rdist,st.reciprocal,\n",
    "        st.rayleigh,st.rice,st.recipinvgauss,st.semicircular,st.t,st.triang,st.truncexpon,st.truncnorm,st.tukeylambda,\n",
    "        st.uniform,st.vonmises,st.vonmises_line,st.wald,st.weibull_min,st.weibull_max,st.wrapcauchy\n",
    "    ]\n",
    "    iCount =0    \n",
    "    best_distribution = st.norm\n",
    "    best_params = (0.0, 1.0)\n",
    "    best_sse = np.inf    \n",
    "    for distribution in DISTRIBUTIONS:        \n",
    "        try:                \n",
    "            warnings.filterwarnings('ignore')   \n",
    "            params = distribution.fit(data)\n",
    "            arg = params[:-2]\n",
    "            loc = params[-2]\n",
    "            scale = params[-1]\n",
    "            pdf = distribution.pdf(x, loc=loc, scale=scale, *arg)\n",
    "            iCount+=1\n",
    "            sse = np.sum(np.power(y - pdf, 2.0))                                \n",
    "            if best_sse > sse:\n",
    "                best_distribution = distribution\n",
    "                best_params = params\n",
    "                best_sse = sse\n",
    "        except Exception:\n",
    "            pass \n",
    "    return (best_distribution,best_params)\n",
    "best_dist=best_fit_distribution(var)"
   ]
  },
  {
   "cell_type": "code",
   "execution_count": 16,
   "metadata": {},
   "outputs": [
    {
     "name": "stdout",
     "output_type": "stream",
     "text": [
      "       Medidas descriptivas\n",
      "count              7.00e+00\n",
      "mean               1.45e+07\n",
      "std                2.62e+06\n",
      "min                1.23e+07\n",
      "25%                1.26e+07\n",
      "50%                1.41e+07\n",
      "75%                1.49e+07\n",
      "max                1.98e+07\n"
     ]
    },
    {
     "data": {
      "application/vnd.plotly.v1+json": {
       "config": {
        "linkText": "Export to plot.ly",
        "plotlyServerURL": "https://plot.ly",
        "showLink": false
       },
       "data": [
        {
         "mode": "markers",
         "name": "powerlaw",
         "type": "scatter",
         "uid": "4e2258fa-e571-431f-bbd9-25705ad8cab1",
         "x": [
          14062875.61,
          12342844.58,
          12705904.93,
          19811197.23,
          14284670.76,
          15611178.65,
          12555740.85
         ],
         "y": [
          9.654564840687772,
          49800786571909.68,
          36.19022417824813,
          2.773589882774006,
          8.70939975137134,
          5.596439444362958,
          56.951489655167734
         ]
        },
        {
         "name": "Valuación",
         "nbinsx": 1,
         "type": "histogram",
         "uid": "3c4eda01-108c-4482-94a9-6351150fd1bd",
         "x": [
          14062875.61,
          12342844.58,
          12705904.93,
          19811197.23,
          14284670.76,
          15611178.65,
          12555740.85
         ]
        }
       ],
       "layout": {
        "title": {
         "text": "Comparación con distribución obtenida"
        },
        "xaxis": {
         "title": {
          "text": "1"
         }
        },
        "yaxis": {
         "title": {
          "text": ""
         }
        }
       }
      },
      "text/html": [
       "<div>\n",
       "        \n",
       "        \n",
       "            <div id=\"3bc631d6-bacf-4945-bf7a-529a86a91aa9\" class=\"plotly-graph-div\" style=\"height:525px; width:100%;\"></div>\n",
       "            <script type=\"text/javascript\">\n",
       "                require([\"plotly\"], function(Plotly) {\n",
       "                    window.PLOTLYENV=window.PLOTLYENV || {};\n",
       "                    window.PLOTLYENV.BASE_URL='https://plot.ly';\n",
       "                    \n",
       "                if (document.getElementById(\"3bc631d6-bacf-4945-bf7a-529a86a91aa9\")) {\n",
       "                    Plotly.newPlot(\n",
       "                        '3bc631d6-bacf-4945-bf7a-529a86a91aa9',\n",
       "                        [{\"mode\": \"markers\", \"name\": \"powerlaw\", \"type\": \"scatter\", \"uid\": \"4e2258fa-e571-431f-bbd9-25705ad8cab1\", \"x\": [14062875.61, 12342844.58, 12705904.93, 19811197.23, 14284670.76, 15611178.65, 12555740.85], \"y\": [9.654564840687772, 49800786571909.68, 36.19022417824813, 2.773589882774006, 8.70939975137134, 5.596439444362958, 56.951489655167734]}, {\"name\": \"Valuaci\\u00f3n\", \"nbinsx\": 1, \"type\": \"histogram\", \"uid\": \"3c4eda01-108c-4482-94a9-6351150fd1bd\", \"x\": [14062875.61, 12342844.58, 12705904.93, 19811197.23, 14284670.76, 15611178.65, 12555740.85]}],\n",
       "                        {\"title\": {\"text\": \"Comparaci\\u00f3n con distribuci\\u00f3n obtenida\"}, \"xaxis\": {\"title\": {\"text\": \"1\"}}, \"yaxis\": {\"title\": {\"text\": \"\"}}},\n",
       "                        {\"showLink\": false, \"linkText\": \"Export to plot.ly\", \"plotlyServerURL\": \"https://plot.ly\", \"responsive\": true}\n",
       "                    ).then(function(){\n",
       "                            \n",
       "var gd = document.getElementById('3bc631d6-bacf-4945-bf7a-529a86a91aa9');\n",
       "var x = new MutationObserver(function (mutations, observer) {{\n",
       "        var display = window.getComputedStyle(gd).display;\n",
       "        if (!display || display === 'none') {{\n",
       "            console.log([gd, 'removed!']);\n",
       "            Plotly.purge(gd);\n",
       "            observer.disconnect();\n",
       "        }}\n",
       "}});\n",
       "\n",
       "// Listen for the removal of the full notebook cells\n",
       "var notebookContainer = gd.closest('#notebook-container');\n",
       "if (notebookContainer) {{\n",
       "    x.observe(notebookContainer, {childList: true});\n",
       "}}\n",
       "\n",
       "// Listen for the clearing of the current output cell\n",
       "var outputEl = gd.closest('.output');\n",
       "if (outputEl) {{\n",
       "    x.observe(outputEl, {childList: true});\n",
       "}}\n",
       "\n",
       "                        })\n",
       "                };\n",
       "                });\n",
       "            </script>\n",
       "        </div>"
      ]
     },
     "metadata": {},
     "output_type": "display_data"
    }
   ],
   "source": [
    "def dist(best_dist):\n",
    "     dist = best_dist[0]\n",
    "     args = dist.fit(var)\n",
    "     distxl = best_dist[0].pdf(var, *args)\n",
    "     st.kstest(var, dist.cdf, args)\n",
    "     data1 = go.Scatter(x=var,y= (distxl * len(var) * var.max() / 1), mode= 'markers', name= best_dist[0].name)\n",
    "     data2 = go.Histogram(x=var, nbinsx= 1, name='Valuación')\n",
    "     data= [data1, data2]\n",
    "     layout = go.Layout(title='Comparación con distribución obtenida', \n",
    "                        xaxis=dict(title=var.name),\n",
    "                        yaxis=dict(title=''))\n",
    "     fig = go.Figure(data=data,layout=layout)\n",
    "     edes=pd.DataFrame(data=var.describe())\n",
    "     edes.rename(columns={1:'Medidas descriptivas'},inplace=True)\n",
    "     print(edes)\n",
    "     return (iplot(fig, filename = 'Hist'))\n",
    "dist(best_dist)"
   ]
  },
  {
   "cell_type": "code",
   "execution_count": null,
   "metadata": {},
   "outputs": [],
   "source": []
  }
 ],
 "metadata": {
  "kernelspec": {
   "display_name": "Python 3",
   "language": "python",
   "name": "python3"
  },
  "language_info": {
   "codemirror_mode": {
    "name": "ipython",
    "version": 3
   },
   "file_extension": ".py",
   "mimetype": "text/x-python",
   "name": "python",
   "nbconvert_exporter": "python",
   "pygments_lexer": "ipython3",
   "version": "3.7.3"
  }
 },
 "nbformat": 4,
 "nbformat_minor": 2
}
